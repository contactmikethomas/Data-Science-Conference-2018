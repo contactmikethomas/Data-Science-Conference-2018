{
 "cells": [
  {
   "cell_type": "markdown",
   "metadata": {},
   "source": [
    "<h1>DS Con: Scraping Content</h1>"
   ]
  },
  {
   "cell_type": "markdown",
   "metadata": {},
   "source": [
    "<h2>Importing libraries</h2>"
   ]
  },
  {
   "cell_type": "code",
   "execution_count": 1,
   "metadata": {
    "collapsed": false,
    "scrolled": true
   },
   "outputs": [],
   "source": [
    "import scrapy\n",
    "from scrapy.crawler import CrawlerProcess\n",
    "import mysql.connector\n",
    "import csv\n",
    "import getpass"
   ]
  },
  {
   "cell_type": "code",
   "execution_count": 2,
   "metadata": {
    "collapsed": false
   },
   "outputs": [],
   "source": [
    "stopwords = []\n",
    "\n",
    "with open('/home/de-admin/Documents/Webscraping/Pastebin/stopwords/corpora/stopwords/english','rb') as f:\n",
    "    reader = csv.reader(f)\n",
    "    for row in reader:\n",
    "        stopwords += row"
   ]
  },
  {
   "cell_type": "code",
   "execution_count": 3,
   "metadata": {
    "collapsed": false
   },
   "outputs": [
    {
     "name": "stdout",
     "output_type": "stream",
     "text": [
      "Password:········\n"
     ]
    }
   ],
   "source": [
    "pswd = getpass.getpass('Password:')"
   ]
  },
  {
   "cell_type": "markdown",
   "metadata": {},
   "source": [
    "*If you ever needed to re-create the table...*"
   ]
  },
  {
   "cell_type": "markdown",
   "metadata": {},
   "source": [
    "try:\n",
    "    cnx = mysql.connector.connect(host=\"aintnodatabase.c3hfm1hvxqhx.eu-west-2.rds.amazonaws.com\",port=3306,database=\"pastebin\",user=\"root\",password=pswd)\n",
    "    cursor = cnx.cursor(buffered=True)\n",
    "    cursor.execute(\"CREATE TABLE pastebindsconflag (LINK varchar(40), TIME varchar(40),  TEXT varchar(60000))\")\n",
    "except mysql.connector.Error as err:\n",
    "    print(str(err))\n",
    "else:\n",
    "    cursor.close()\n",
    "    cnx.close()\n",
    "\n",
    "try:\n",
    "    cnx = mysql.connector.connect(host=\"aintnodatabase.c3hfm1hvxqhx.eu-west-2.rds.amazonaws.com\",port=3306,database=\"pastebin\",user=\"root\",password=pswd)\n",
    "    cursor = cnx.cursor(buffered=True)\n",
    "    cursor.execute(\"CREATE TABLE pastebindsconlarge (LINK varchar(40), TIME varchar(40), TEXT varchar(35000), TEXT_P varchar(25000))\")\n",
    "except mysql.connector.Error as err:\n",
    "    print(str(err))\n",
    "else:\n",
    "    cursor.close()\n",
    "    cnx.close()"
   ]
  },
  {
   "cell_type": "markdown",
   "metadata": {},
   "source": [
    "<h2>Defining the Webscraping Spider</h2>"
   ]
  },
  {
   "cell_type": "code",
   "execution_count": 4,
   "metadata": {
    "collapsed": false
   },
   "outputs": [],
   "source": [
    "class MySpider(scrapy.Spider):\n",
    "    name = \"Pastebin\"\n",
    "\n",
    "    custom_settings = {\n",
    "        'DOWNLOAD_DELAY': 2,\n",
    "        'RETRY_TIMES' : 3\n",
    "    }\n",
    "    \n",
    "    \n",
    "    def __init__(self, *args, **kwargs):\n",
    "        super(MySpider, self).__init__(*args, **kwargs) \n",
    "        self.pswd=[kwargs.get('pswd')] \n",
    "        self.stopwords=[kwargs.get('stopwords')] \n",
    "        \n",
    "    def start_requests(self):\n",
    "        \n",
    "        while 1 == 1:\n",
    "            try:\n",
    "                cnx = mysql.connector.connect(host=\"aintnodatabase.c3hfm1hvxqhx.eu-west-2.rds.amazonaws.com\",port=3306,database=\"pastebin\",user=\"root\",password=pswd)\n",
    "                cursor = cnx.cursor(buffered=True)\n",
    "                cursor.execute(\"SELECT * FROM pastebin\")\n",
    "                result = cursor.fetchall()\n",
    "            except mysql.connector.Error as err:\n",
    "                print(str(err))\n",
    "            else:\n",
    "                cursor.close()\n",
    "                cnx.close()\n",
    "\n",
    "            for link in result:\n",
    "                try:\n",
    "                    cnx = mysql.connector.connect(host=\"aintnodatabase.c3hfm1hvxqhx.eu-west-2.rds.amazonaws.com\",port=3306,database=\"pastebin\",user=\"root\",password=pswd)\n",
    "                    cursor = cnx.cursor(buffered=True)\n",
    "                    query = \"DELETE FROM pastebin WHERE LINK = '\"+link[0]+\"'\"\n",
    "                    cursor.execute(query)\n",
    "                    cnx.commit()\n",
    "                except mysql.connector.Error as err:\n",
    "                    print(str(err))\n",
    "                else:\n",
    "                    cursor.close()\n",
    "                    cnx.close()\n",
    "\n",
    "                yield scrapy.Request(url=\"https://pastebin.com\"+link[0].encode('ascii','ignore'), callback=self.parse, dont_filter=True, meta={'time':link[1]})\n",
    "\n",
    "    def parse(self, response):\n",
    "        targets = [\"gsi.gov.uk\",\"spotify\",\"netflix\",\"steam key\",\"minecraft nfa\",\"deezer\",\"crunchyroll\",\"mcnfa\",\"hulu\",\"hma key\",\"fortnite\",\"nordvpn\"]\n",
    "        content_raw = response.xpath('//textarea//text()').extract()[0].encode('ascii','ignore')\n",
    "        content = \"\"\n",
    "        \n",
    "        a = content_raw.split()\n",
    "        for x in a:\n",
    "            if len(x) > 3:\n",
    "                if x not in stopwords:\n",
    "                    x += \" \"        \n",
    "                    content += x.encode('ascii','ignore')     \n",
    "                    \n",
    "        if any(x in content_raw.lower() for x in targets):\n",
    "            try:\n",
    "                cnx = mysql.connector.connect(host=\"aintnodatabase.c3hfm1hvxqhx.eu-west-2.rds.amazonaws.com\",port=3306,database=\"pastebin\",user=\"root\",password=pswd)\n",
    "                cursor = cnx.cursor(buffered=True)\n",
    "                query = \"INSERT INTO pastebindsconflag (LINK, TIME, TEXT) VALUES ('\"+response.request.url+\"','\"+response.meta['time']+\"', '\"+content_raw.encode('hex')+\"')\"\n",
    "                cursor.execute(query)\n",
    "                cnx.commit()\n",
    "            except mysql.connector.Error as err:\n",
    "                print(str(err))\n",
    "            else:\n",
    "                cursor.close()\n",
    "                cnx.close()\n",
    "        else:\n",
    "            try:\n",
    "                cnx = mysql.connector.connect(host=\"aintnodatabase.c3hfm1hvxqhx.eu-west-2.rds.amazonaws.com\",port=3306,database=\"pastebin\",user=\"root\",password=pswd)\n",
    "                cursor = cnx.cursor(buffered=True)\n",
    "                query = \"INSERT INTO pastebindsconlarge (LINK, TIME, TEXT, TEXT_P) VALUES ('\"+response.request.url+\"','\"+response.meta['time']+\"', '\"+content_raw.encode('hex')+\"', '\"+content.encode('hex')+\"')\"\n",
    "                cursor.execute(query)\n",
    "                cnx.commit()\n",
    "            except mysql.connector.Error as err:\n",
    "                print(str(err))\n",
    "            else:\n",
    "                cursor.close()\n",
    "                cnx.close()"
   ]
  },
  {
   "cell_type": "markdown",
   "metadata": {},
   "source": [
    "<h2>Running the Webscraping</h2>\n",
    "\n",
    "Note, you can't re run the code below in a single session for one reason or another, so you need to restart the kernel between runs.\n",
    "\n",
    "This code creates a lightweight container for our webspider and then runs it - to be honest understanding this is probably optional unless it breaks."
   ]
  },
  {
   "cell_type": "code",
   "execution_count": null,
   "metadata": {
    "collapsed": false,
    "scrolled": true
   },
   "outputs": [
    {
     "name": "stderr",
     "output_type": "stream",
     "text": [
      "2018-05-18 12:50:59 [scrapy.utils.log] INFO: Scrapy 1.3.3 started (bot: scrapybot)\n",
      "2018-05-18 12:50:59 [scrapy.utils.log] INFO: Overridden settings: {}\n",
      "2018-05-18 12:50:59 [scrapy.middleware] INFO: Enabled extensions:\n",
      "['scrapy.extensions.logstats.LogStats',\n",
      " 'scrapy.extensions.telnet.TelnetConsole',\n",
      " 'scrapy.extensions.corestats.CoreStats']\n",
      "2018-05-18 12:50:59 [scrapy.middleware] INFO: Enabled downloader middlewares:\n",
      "['scrapy.downloadermiddlewares.httpauth.HttpAuthMiddleware',\n",
      " 'scrapy.downloadermiddlewares.downloadtimeout.DownloadTimeoutMiddleware',\n",
      " 'scrapy.downloadermiddlewares.defaultheaders.DefaultHeadersMiddleware',\n",
      " 'scrapy.downloadermiddlewares.useragent.UserAgentMiddleware',\n",
      " 'scrapy.downloadermiddlewares.retry.RetryMiddleware',\n",
      " 'scrapy.downloadermiddlewares.redirect.MetaRefreshMiddleware',\n",
      " 'scrapy.downloadermiddlewares.httpcompression.HttpCompressionMiddleware',\n",
      " 'scrapy.downloadermiddlewares.redirect.RedirectMiddleware',\n",
      " 'scrapy.downloadermiddlewares.cookies.CookiesMiddleware',\n",
      " 'scrapy.downloadermiddlewares.stats.DownloaderStats']\n",
      "2018-05-18 12:50:59 [scrapy.middleware] INFO: Enabled spider middlewares:\n",
      "['scrapy.spidermiddlewares.httperror.HttpErrorMiddleware',\n",
      " 'scrapy.spidermiddlewares.offsite.OffsiteMiddleware',\n",
      " 'scrapy.spidermiddlewares.referer.RefererMiddleware',\n",
      " 'scrapy.spidermiddlewares.urllength.UrlLengthMiddleware',\n",
      " 'scrapy.spidermiddlewares.depth.DepthMiddleware']\n",
      "2018-05-18 12:50:59 [scrapy.middleware] INFO: Enabled item pipelines:\n",
      "[]\n",
      "2018-05-18 12:50:59 [scrapy.core.engine] INFO: Spider opened\n",
      "2018-05-18 12:50:59 [scrapy.extensions.logstats] INFO: Crawled 0 pages (at 0 pages/min), scraped 0 items (at 0 items/min)\n",
      "2018-05-18 12:50:59 [scrapy.extensions.telnet] DEBUG: Telnet console listening on 127.0.0.1:6023\n"
     ]
    }
   ],
   "source": [
    "process = CrawlerProcess()\n",
    "process.crawl(MySpider, pswd=pswd, stopwords=stopwords)\n",
    "process.start()"
   ]
  },
  {
   "cell_type": "code",
   "execution_count": null,
   "metadata": {
    "collapsed": true
   },
   "outputs": [],
   "source": []
  }
 ],
 "metadata": {
  "anaconda-cloud": {},
  "kernelspec": {
   "display_name": "Python [default]",
   "language": "python",
   "name": "python2"
  },
  "language_info": {
   "codemirror_mode": {
    "name": "ipython",
    "version": 2
   },
   "file_extension": ".py",
   "mimetype": "text/x-python",
   "name": "python",
   "nbconvert_exporter": "python",
   "pygments_lexer": "ipython2",
   "version": "2.7.12"
  }
 },
 "nbformat": 4,
 "nbformat_minor": 1
}
