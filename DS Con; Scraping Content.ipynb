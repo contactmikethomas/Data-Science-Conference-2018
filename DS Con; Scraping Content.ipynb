{
 "cells": [
  {
   "cell_type": "markdown",
   "metadata": {},
   "source": [
    "<h1>DS Con: Scraping Content</h1>"
   ]
  },
  {
   "cell_type": "markdown",
   "metadata": {},
   "source": [
    "<h2>Importing libraries</h2>"
   ]
  },
  {
   "cell_type": "code",
   "execution_count": 1,
   "metadata": {
    "scrolled": true
   },
   "outputs": [],
   "source": [
    "import scrapy\n",
    "from scrapy.crawler import CrawlerProcess\n",
    "import mysql.connector\n",
    "import csv\n",
    "import getpass"
   ]
  },
  {
   "cell_type": "code",
   "execution_count": 4,
   "metadata": {
    "scrolled": false
   },
   "outputs": [],
   "source": [
    "stopwords = []\n",
    "\n",
    "with open('/home/de-admin/Documents/github folders/Mike Thomas/Pastebin/Pastebin/stopwords/corpora/stopwords/english','rb') as f:\n",
    "    reader = csv.reader(f)\n",
    "    for row in reader:\n",
    "        stopwords += row"
   ]
  },
  {
   "cell_type": "code",
   "execution_count": 5,
   "metadata": {},
   "outputs": [
    {
     "name": "stdout",
     "output_type": "stream",
     "text": [
      "Password:········\n"
     ]
    }
   ],
   "source": [
    "pswd = getpass.getpass('Password:')"
   ]
  },
  {
   "cell_type": "markdown",
   "metadata": {},
   "source": [
    "*If you ever needed to re-create the table...*"
   ]
  },
  {
   "cell_type": "code",
   "execution_count": null,
   "metadata": {},
   "outputs": [],
   "source": [
    "try:\n",
    "    cnx = mysql.connector.connect(host=\"aintnodatabase.c3hfm1hvxqhx.eu-west-2.rds.amazonaws.com\",port=3306,database=\"pastebin\",user=\"root\",password=pswd)\n",
    "    cursor = cnx.cursor(buffered=True)\n",
    "    cursor.execute(\"CREATE TABLE pastebindsconflag (LINK varchar(40), TIME varchar(40),  TEXT varchar(60000))\")\n",
    "except mysql.connector.Error as err:\n",
    "    print(str(err))\n",
    "else:\n",
    "    cursor.close()\n",
    "    cnx.close()\n",
    "\n",
    "try:\n",
    "    cnx = mysql.connector.connect(host=\"aintnodatabase.c3hfm1hvxqhx.eu-west-2.rds.amazonaws.com\",port=3306,database=\"pastebin\",user=\"root\",password=pswd)\n",
    "    cursor = cnx.cursor(buffered=True)\n",
    "    cursor.execute(\"CREATE TABLE pastebindsconlarge (LINK varchar(40), TIME varchar(40), TEXT varchar(35000), TEXT_P varchar(25000))\")\n",
    "except mysql.connector.Error as err:\n",
    "    print(str(err))\n",
    "else:\n",
    "    cursor.close()\n",
    "    cnx.close()"
   ]
  },
  {
   "cell_type": "markdown",
   "metadata": {},
   "source": [
    "<h2>Defining the Webscraping Spider</h2>"
   ]
  },
  {
   "cell_type": "code",
   "execution_count": 6,
   "metadata": {},
   "outputs": [],
   "source": [
    "class MySpider(scrapy.Spider):\n",
    "    name = \"Pastebin\"\n",
    "\n",
    "    custom_settings = {\n",
    "        'DOWNLOAD_DELAY': 2,\n",
    "        'RETRY_TIMES' : 3\n",
    "    }\n",
    "    \n",
    "    \n",
    "    def __init__(self, *args, **kwargs):\n",
    "        super(MySpider, self).__init__(*args, **kwargs) \n",
    "        self.pswd=[kwargs.get('pswd')] \n",
    "        self.stopwords=[kwargs.get('stopwords')] \n",
    "        \n",
    "    def start_requests(self):\n",
    "        \n",
    "        while 1 == 1:\n",
    "            try:\n",
    "                cnx = mysql.connector.connect(host=\"aintnodatabase.c3hfm1hvxqhx.eu-west-2.rds.amazonaws.com\",port=3306,database=\"pastebin\",user=\"root\",password=pswd)\n",
    "                cursor = cnx.cursor(buffered=True)\n",
    "                cursor.execute(\"SELECT * FROM pastebin\")\n",
    "                result = cursor.fetchall()\n",
    "            except mysql.connector.Error as err:\n",
    "                print(str(err))\n",
    "            else:\n",
    "                cursor.close()\n",
    "                cnx.close()\n",
    "\n",
    "            for link in result:\n",
    "                try:\n",
    "                    cnx = mysql.connector.connect(host=\"aintnodatabase.c3hfm1hvxqhx.eu-west-2.rds.amazonaws.com\",port=3306,database=\"pastebin\",user=\"root\",password=pswd)\n",
    "                    cursor = cnx.cursor(buffered=True)\n",
    "                    query = \"DELETE FROM pastebin WHERE LINK = '\"+link[0]+\"'\"\n",
    "                    cursor.execute(query)\n",
    "                    cnx.commit()\n",
    "                except mysql.connector.Error as err:\n",
    "                    print(str(err))\n",
    "                else:\n",
    "                    cursor.close()\n",
    "                    cnx.close()\n",
    "\n",
    "                yield scrapy.Request(url=\"https://pastebin.com\"+link[0].encode('ascii','ignore'), callback=self.parse, dont_filter=True, meta={'time':link[1]})\n",
    "\n",
    "    def parse(self, response):\n",
    "        targets = [\"gsi.gov.uk\",\"spotify\",\"netflix\",\"steam key\",\"minecraft nfa\",\"deezer\",\"crunchyroll\",\"mcnfa\",\"hulu\",\"hma key\",\"fortnite\",\"nordvpn\"]\n",
    "        content_raw = response.xpath('//textarea//text()').extract()[0].encode('ascii','ignore')\n",
    "        content = \"\"\n",
    "        \n",
    "        a = content_raw.split()\n",
    "        for x in a:\n",
    "            if len(x) > 3:\n",
    "                if x not in stopwords:\n",
    "                    x += \" \"        \n",
    "                    content += x.encode('ascii','ignore')     \n",
    "                    \n",
    "        if any(x in content_raw.lower() for x in targets):\n",
    "            try:\n",
    "                cnx = mysql.connector.connect(host=\"aintnodatabase.c3hfm1hvxqhx.eu-west-2.rds.amazonaws.com\",port=3306,database=\"pastebin\",user=\"root\",password=pswd)\n",
    "                cursor = cnx.cursor(buffered=True)\n",
    "                query = \"INSERT INTO pastebindsconflag (LINK, TIME, TEXT) VALUES ('\"+response.request.url+\"','\"+response.meta['time']+\"', '\"+content_raw.encode('hex')+\"')\"\n",
    "                cursor.execute(query)\n",
    "                cnx.commit()\n",
    "            except mysql.connector.Error as err:\n",
    "                print(str(err))\n",
    "            else:\n",
    "                cursor.close()\n",
    "                cnx.close()\n",
    "        else:\n",
    "            try:\n",
    "                cnx = mysql.connector.connect(host=\"aintnodatabase.c3hfm1hvxqhx.eu-west-2.rds.amazonaws.com\",port=3306,database=\"pastebin\",user=\"root\",password=pswd)\n",
    "                cursor = cnx.cursor(buffered=True)\n",
    "                query = \"INSERT INTO pastebindsconlarge (LINK, TIME, TEXT, TEXT_P) VALUES ('\"+response.request.url+\"','\"+response.meta['time']+\"', '\"+content_raw.encode('hex')+\"', '\"+content.encode('hex')+\"')\"\n",
    "                cursor.execute(query)\n",
    "                cnx.commit()\n",
    "            except mysql.connector.Error as err:\n",
    "                print(str(err))\n",
    "            else:\n",
    "                cursor.close()\n",
    "                cnx.close()"
   ]
  },
  {
   "cell_type": "markdown",
   "metadata": {},
   "source": [
    "<h2>Running the Webscraping</h2>\n",
    "\n",
    "Note, you can't re run the code below in a single session for one reason or another, so you need to restart the kernel between runs.\n",
    "\n",
    "This code creates a lightweight container for our webspider and then runs it - to be honest understanding this is probably optional unless it breaks."
   ]
  },
  {
   "cell_type": "code",
   "execution_count": null,
   "metadata": {
    "scrolled": true
   },
   "outputs": [
    {
     "name": "stderr",
     "output_type": "stream",
     "text": [
      "2018-07-04 10:43:47 [scrapy.utils.log] INFO: Scrapy 1.5.0 started (bot: scrapybot)\n",
      "2018-07-04 10:43:47 [scrapy.utils.log] INFO: Versions: lxml 4.2.3.0, libxml2 2.9.8, cssselect 1.0.3, parsel 1.4.0, w3lib 1.19.0, Twisted 17.9.0, Python 2.7.15rc1 (default, Apr 15 2018, 21:51:34) - [GCC 7.3.0], pyOpenSSL 17.5.0 (OpenSSL 1.1.0g  2 Nov 2017), cryptography 2.1.4, Platform Linux-4.15.0-24-generic-x86_64-with-Ubuntu-18.04-bionic\n",
      "2018-07-04 10:43:47 [scrapy.crawler] INFO: Overridden settings: {'RETRY_TIMES': 3, 'DOWNLOAD_DELAY': 2}\n",
      "2018-07-04 10:43:47 [scrapy.middleware] INFO: Enabled extensions:\n",
      "['scrapy.extensions.memusage.MemoryUsage',\n",
      " 'scrapy.extensions.logstats.LogStats',\n",
      " 'scrapy.extensions.telnet.TelnetConsole',\n",
      " 'scrapy.extensions.corestats.CoreStats']\n",
      "2018-07-04 10:43:47 [scrapy.middleware] INFO: Enabled downloader middlewares:\n",
      "['scrapy.downloadermiddlewares.httpauth.HttpAuthMiddleware',\n",
      " 'scrapy.downloadermiddlewares.downloadtimeout.DownloadTimeoutMiddleware',\n",
      " 'scrapy.downloadermiddlewares.defaultheaders.DefaultHeadersMiddleware',\n",
      " 'scrapy.downloadermiddlewares.useragent.UserAgentMiddleware',\n",
      " 'scrapy.downloadermiddlewares.retry.RetryMiddleware',\n",
      " 'scrapy.downloadermiddlewares.redirect.MetaRefreshMiddleware',\n",
      " 'scrapy.downloadermiddlewares.httpcompression.HttpCompressionMiddleware',\n",
      " 'scrapy.downloadermiddlewares.redirect.RedirectMiddleware',\n",
      " 'scrapy.downloadermiddlewares.cookies.CookiesMiddleware',\n",
      " 'scrapy.downloadermiddlewares.httpproxy.HttpProxyMiddleware',\n",
      " 'scrapy.downloadermiddlewares.stats.DownloaderStats']\n",
      "2018-07-04 10:43:47 [scrapy.middleware] INFO: Enabled spider middlewares:\n",
      "['scrapy.spidermiddlewares.httperror.HttpErrorMiddleware',\n",
      " 'scrapy.spidermiddlewares.offsite.OffsiteMiddleware',\n",
      " 'scrapy.spidermiddlewares.referer.RefererMiddleware',\n",
      " 'scrapy.spidermiddlewares.urllength.UrlLengthMiddleware',\n",
      " 'scrapy.spidermiddlewares.depth.DepthMiddleware']\n",
      "2018-07-04 10:43:47 [scrapy.middleware] INFO: Enabled item pipelines:\n",
      "[]\n",
      "2018-07-04 10:43:47 [scrapy.core.engine] INFO: Spider opened\n",
      "2018-07-04 10:43:47 [scrapy.extensions.logstats] INFO: Crawled 0 pages (at 0 pages/min), scraped 0 items (at 0 items/min)\n",
      "2018-07-04 10:43:47 [scrapy.extensions.telnet] DEBUG: Telnet console listening on 127.0.0.1:6023\n",
      "2018-07-04 10:49:39 [scrapy.extensions.logstats] INFO: Crawled 0 pages (at 0 pages/min), scraped 0 items (at 0 items/min)\n",
      "2018-07-04 10:49:58 [scrapy.downloadermiddlewares.retry] DEBUG: Retrying <GET https://pastebin.com/F9fZpNzY> (failed 1 times): [<twisted.python.failure.Failure twisted.internet.error.ConnectionDone: Connection was closed cleanly.>]\n",
      "2018-07-04 10:49:58 [scrapy.extensions.logstats] INFO: Crawled 0 pages (at 0 pages/min), scraped 0 items (at 0 items/min)\n",
      "2018-07-04 10:50:13 [scrapy.downloadermiddlewares.retry] DEBUG: Retrying <GET https://pastebin.com/CZApsBnu> (failed 1 times): [<twisted.python.failure.Failure twisted.internet.error.ConnectionDone: Connection was closed cleanly.>]\n",
      "2018-07-04 10:50:14 [scrapy.core.engine] DEBUG: Crawled (200) <GET https://pastebin.com/HdEU9vda> (referer: None)\n",
      "2018-07-04 10:50:16 [scrapy.core.engine] DEBUG: Crawled (200) <GET https://pastebin.com/iZCcEMiA> (referer: None)\n",
      "2018-07-04 10:50:18 [scrapy.core.engine] DEBUG: Crawled (200) <GET https://pastebin.com/SPrq3U7i> (referer: None)\n",
      "2018-07-04 10:50:32 [scrapy.core.engine] DEBUG: Crawled (200) <GET https://pastebin.com/R2PjYerQ> (referer: None)\n",
      "2018-07-04 10:50:35 [scrapy.core.engine] DEBUG: Crawled (200) <GET https://pastebin.com/M327UQXz> (referer: None)\n",
      "2018-07-04 10:50:38 [scrapy.core.engine] DEBUG: Crawled (200) <GET https://pastebin.com/mWp48dZS> (referer: None)\n",
      "2018-07-04 10:50:40 [scrapy.core.engine] DEBUG: Crawled (200) <GET https://pastebin.com/vEzgfugW> (referer: None)\n",
      "2018-07-04 10:50:42 [scrapy.core.engine] DEBUG: Crawled (200) <GET https://pastebin.com/F9fZpNzY> (referer: None)\n",
      "2018-07-04 10:50:45 [scrapy.core.engine] DEBUG: Crawled (200) <GET https://pastebin.com/UGkgvq12> (referer: None)\n",
      "2018-07-04 10:50:47 [scrapy.extensions.logstats] INFO: Crawled 9 pages (at 9 pages/min), scraped 0 items (at 0 items/min)\n",
      "2018-07-04 10:50:48 [scrapy.core.engine] DEBUG: Crawled (200) <GET https://pastebin.com/D70EPLJ9> (referer: None)\n",
      "2018-07-04 10:50:50 [scrapy.core.engine] DEBUG: Crawled (200) <GET https://pastebin.com/6YnuQGEu> (referer: None)\n",
      "2018-07-04 10:58:16 [scrapy.crawler] INFO: Received SIGINT, shutting down gracefully. Send again to force \n",
      "2018-07-04 10:58:16 [scrapy.crawler] INFO: Received SIGINT twice, forcing unclean shutdown\n"
     ]
    },
    {
     "name": "stdout",
     "output_type": "stream",
     "text": [
      "2055: Lost connection to MySQL server at 'aintnodatabase.c3hfm1hvxqhx.eu-west-2.rds.amazonaws.com:3306', system error: 4 Interrupted system call\n"
     ]
    }
   ],
   "source": [
    "process = CrawlerProcess()\n",
    "process.crawl(MySpider, pswd=pswd, stopwords=stopwords)\n",
    "process.start()"
   ]
  },
  {
   "cell_type": "code",
   "execution_count": null,
   "metadata": {
    "collapsed": true
   },
   "outputs": [],
   "source": []
  }
 ],
 "metadata": {
  "anaconda-cloud": {},
  "kernelspec": {
   "display_name": "Python 2",
   "language": "python",
   "name": "python2"
  },
  "language_info": {
   "codemirror_mode": {
    "name": "ipython",
    "version": 2
   },
   "file_extension": ".py",
   "mimetype": "text/x-python",
   "name": "python",
   "nbconvert_exporter": "python",
   "pygments_lexer": "ipython2",
   "version": "2.7.15rc1"
  }
 },
 "nbformat": 4,
 "nbformat_minor": 1
}
