{
 "cells": [
  {
   "cell_type": "markdown",
   "metadata": {},
   "source": [
    "<h1>DS Con: Clustering Backend</h1>"
   ]
  },
  {
   "cell_type": "markdown",
   "metadata": {},
   "source": [
    "## Importing libraries"
   ]
  },
  {
   "cell_type": "code",
   "execution_count": 1,
   "metadata": {},
   "outputs": [],
   "source": [
    "import mysql.connector\n",
    "import getpass"
   ]
  },
  {
   "cell_type": "code",
   "execution_count": 2,
   "metadata": {},
   "outputs": [
    {
     "name": "stdout",
     "output_type": "stream",
     "text": [
      "Password:········\n"
     ]
    }
   ],
   "source": [
    "pswd = getpass.getpass('Password:')"
   ]
  },
  {
   "cell_type": "markdown",
   "metadata": {},
   "source": [
    "try:\n",
    "    cnx = mysql.connector.connect(host=\"aintnodatabase.c3hfm1hvxqhx.eu-west-2.rds.amazonaws.com\",port=3306,database=\"pastebin\",user=\"root\",password=pswd)\n",
    "    cursor = cnx.cursor(buffered=True)\n",
    "    cursor.execute(\"CREATE TABLE pastebindsconwords1 (WORD varchar(1000))\")\n",
    "    cursor.execute(\"CREATE TABLE pastebindsconwords2 (WORD varchar(1000))\")\n",
    "    cursor.execute(\"CREATE TABLE pastebindsconwords3 (WORD varchar(1000))\")\n",
    "    cursor.execute(\"CREATE TABLE pastebindsconwords4 (WORD varchar(1000))\")\n",
    "    cursor.execute(\"CREATE TABLE pastebindsconwords5 (WORD varchar(1000))\")\n",
    "except mysql.connector.Error as err:\n",
    "    print(str(err))\n",
    "else:\n",
    "    cursor.close()\n",
    "    cnx.close()\n",
    "    \n",
    "try:\n",
    "    cnx = mysql.connector.connect(host=\"aintnodatabase.c3hfm1hvxqhx.eu-west-2.rds.amazonaws.com\",port=3306,database=\"pastebin\",user=\"root\",password=pswd)\n",
    "    cursor = cnx.cursor(buffered=True)\n",
    "    cursor.execute(\"CREATE TABLE pastebindsconclusters1 (LINK varchar(40), TIME varchar(40), TEXT varchar(60000))\")\n",
    "    cursor.execute(\"CREATE TABLE pastebindsconclusters2 (LINK varchar(40), TIME varchar(40), TEXT varchar(60000))\")\n",
    "    cursor.execute(\"CREATE TABLE pastebindsconclusters3 (LINK varchar(40), TIME varchar(40), TEXT varchar(60000))\")\n",
    "    cursor.execute(\"CREATE TABLE pastebindsconclusters4 (LINK varchar(40), TIME varchar(40), TEXT varchar(60000))\")\n",
    "    cursor.execute(\"CREATE TABLE pastebindsconclusters5 (LINK varchar(40), TIME varchar(40), TEXT varchar(60000))\")\n",
    "except mysql.connector.Error as err:\n",
    "    print(str(err))\n",
    "else:\n",
    "    cursor.close()\n",
    "    cnx.close()"
   ]
  },
  {
   "cell_type": "markdown",
   "metadata": {},
   "source": [
    "## Clustering"
   ]
  },
  {
   "cell_type": "code",
   "execution_count": 3,
   "metadata": {},
   "outputs": [
    {
     "name": "stdout",
     "output_type": "stream",
     "text": [
      "1\n",
      "2\n"
     ]
    },
    {
     "ename": "KeyboardInterrupt",
     "evalue": "",
     "output_type": "error",
     "traceback": [
      "\u001b[0;31m---------------------------------------------------------------------------\u001b[0m",
      "\u001b[0;31mKeyboardInterrupt\u001b[0m                         Traceback (most recent call last)",
      "\u001b[0;32m<ipython-input-3-145ccee89314>\u001b[0m in \u001b[0;36m<module>\u001b[0;34m()\u001b[0m\n\u001b[1;32m     58\u001b[0m             \u001b[0;32mexec\u001b[0m\u001b[0;34m(\u001b[0m\u001b[0;34m'cursor.execute(\"TRUNCATE pastebindsconwords%s\")'\u001b[0m\u001b[0;34m)\u001b[0m \u001b[0;34m%\u001b[0m \u001b[0;34m(\u001b[0m\u001b[0mi\u001b[0m\u001b[0;34m)\u001b[0m\u001b[0;34m\u001b[0m\u001b[0m\n\u001b[1;32m     59\u001b[0m             \u001b[0;32mexec\u001b[0m\u001b[0;34m(\u001b[0m\u001b[0;34m'stmt = \"INSERT INTO pastebindsconwords%s (WORD) VALUES (%s)\"'\u001b[0m\u001b[0;34m)\u001b[0m \u001b[0;34m%\u001b[0m \u001b[0;34m(\u001b[0m\u001b[0mi\u001b[0m\u001b[0;34m,\u001b[0m \u001b[0;34m\"%s\"\u001b[0m\u001b[0;34m)\u001b[0m\u001b[0;34m\u001b[0m\u001b[0m\n\u001b[0;32m---> 60\u001b[0;31m             \u001b[0;32mexec\u001b[0m\u001b[0;34m(\u001b[0m\u001b[0;34m'cursor.executemany(stmt, clusters%s)'\u001b[0m\u001b[0;34m)\u001b[0m \u001b[0;34m%\u001b[0m \u001b[0;34m(\u001b[0m\u001b[0mi\u001b[0m\u001b[0;34m-\u001b[0m\u001b[0;36m1\u001b[0m\u001b[0;34m)\u001b[0m\u001b[0;34m\u001b[0m\u001b[0m\n\u001b[0m\u001b[1;32m     61\u001b[0m             \u001b[0mcnx\u001b[0m\u001b[0;34m.\u001b[0m\u001b[0mcommit\u001b[0m\u001b[0;34m(\u001b[0m\u001b[0;34m)\u001b[0m\u001b[0;34m\u001b[0m\u001b[0m\n\u001b[1;32m     62\u001b[0m         \u001b[0;32mexcept\u001b[0m \u001b[0mmysql\u001b[0m\u001b[0;34m.\u001b[0m\u001b[0mconnector\u001b[0m\u001b[0;34m.\u001b[0m\u001b[0mError\u001b[0m \u001b[0;32mas\u001b[0m \u001b[0merr\u001b[0m\u001b[0;34m:\u001b[0m\u001b[0;34m\u001b[0m\u001b[0m\n",
      "\u001b[0;32m<string>\u001b[0m in \u001b[0;36m<module>\u001b[0;34m()\u001b[0m\n",
      "\u001b[0;32m/home/de-admin/.local/lib/python2.7/site-packages/mysql/connector/cursor.pyc\u001b[0m in \u001b[0;36mexecutemany\u001b[0;34m(self, operation, seq_params)\u001b[0m\n\u001b[1;32m    650\u001b[0m                 \u001b[0mself\u001b[0m\u001b[0;34m.\u001b[0m\u001b[0m_rowcount\u001b[0m \u001b[0;34m=\u001b[0m \u001b[0;36m0\u001b[0m\u001b[0;34m\u001b[0m\u001b[0m\n\u001b[1;32m    651\u001b[0m                 \u001b[0;32mreturn\u001b[0m\u001b[0;34m\u001b[0m\u001b[0m\n\u001b[0;32m--> 652\u001b[0;31m             \u001b[0mstmt\u001b[0m \u001b[0;34m=\u001b[0m \u001b[0mself\u001b[0m\u001b[0;34m.\u001b[0m\u001b[0m_batch_insert\u001b[0m\u001b[0;34m(\u001b[0m\u001b[0moperation\u001b[0m\u001b[0;34m,\u001b[0m \u001b[0mseq_params\u001b[0m\u001b[0;34m)\u001b[0m\u001b[0;34m\u001b[0m\u001b[0m\n\u001b[0m\u001b[1;32m    653\u001b[0m             \u001b[0;32mif\u001b[0m \u001b[0mstmt\u001b[0m \u001b[0;32mis\u001b[0m \u001b[0;32mnot\u001b[0m \u001b[0mNone\u001b[0m\u001b[0;34m:\u001b[0m\u001b[0;34m\u001b[0m\u001b[0m\n\u001b[1;32m    654\u001b[0m                 \u001b[0;32mreturn\u001b[0m \u001b[0mself\u001b[0m\u001b[0;34m.\u001b[0m\u001b[0mexecute\u001b[0m\u001b[0;34m(\u001b[0m\u001b[0mstmt\u001b[0m\u001b[0;34m)\u001b[0m\u001b[0;34m\u001b[0m\u001b[0m\n",
      "\u001b[0;32m/home/de-admin/.local/lib/python2.7/site-packages/mysql/connector/cursor.pyc\u001b[0m in \u001b[0;36m_batch_insert\u001b[0;34m(self, operation, seq_params)\u001b[0m\n\u001b[1;32m    591\u001b[0m                         tmp, self._process_params_dict(params))\n\u001b[1;32m    592\u001b[0m                 \u001b[0;32melse\u001b[0m\u001b[0;34m:\u001b[0m\u001b[0;34m\u001b[0m\u001b[0m\n\u001b[0;32m--> 593\u001b[0;31m                     \u001b[0mpsub\u001b[0m \u001b[0;34m=\u001b[0m \u001b[0m_ParamSubstitutor\u001b[0m\u001b[0;34m(\u001b[0m\u001b[0mself\u001b[0m\u001b[0;34m.\u001b[0m\u001b[0m_process_params\u001b[0m\u001b[0;34m(\u001b[0m\u001b[0mparams\u001b[0m\u001b[0;34m)\u001b[0m\u001b[0;34m)\u001b[0m\u001b[0;34m\u001b[0m\u001b[0m\n\u001b[0m\u001b[1;32m    594\u001b[0m                     \u001b[0mtmp\u001b[0m \u001b[0;34m=\u001b[0m \u001b[0mRE_PY_PARAM\u001b[0m\u001b[0;34m.\u001b[0m\u001b[0msub\u001b[0m\u001b[0;34m(\u001b[0m\u001b[0mpsub\u001b[0m\u001b[0;34m,\u001b[0m \u001b[0mtmp\u001b[0m\u001b[0;34m)\u001b[0m\u001b[0;34m\u001b[0m\u001b[0m\n\u001b[1;32m    595\u001b[0m                     \u001b[0;32mif\u001b[0m \u001b[0mpsub\u001b[0m\u001b[0;34m.\u001b[0m\u001b[0mremaining\u001b[0m \u001b[0;34m!=\u001b[0m \u001b[0;36m0\u001b[0m\u001b[0;34m:\u001b[0m\u001b[0;34m\u001b[0m\u001b[0m\n",
      "\u001b[0;32m/home/de-admin/.local/lib/python2.7/site-packages/mysql/connector/cursor.pyc\u001b[0m in \u001b[0;36m_process_params\u001b[0;34m(self, params)\u001b[0m\n\u001b[1;32m    415\u001b[0m             \u001b[0mquote\u001b[0m \u001b[0;34m=\u001b[0m \u001b[0mself\u001b[0m\u001b[0;34m.\u001b[0m\u001b[0m_connection\u001b[0m\u001b[0;34m.\u001b[0m\u001b[0mconverter\u001b[0m\u001b[0;34m.\u001b[0m\u001b[0mquote\u001b[0m\u001b[0;34m\u001b[0m\u001b[0m\n\u001b[1;32m    416\u001b[0m \u001b[0;34m\u001b[0m\u001b[0m\n\u001b[0;32m--> 417\u001b[0;31m             \u001b[0mres\u001b[0m \u001b[0;34m=\u001b[0m \u001b[0;34m[\u001b[0m\u001b[0mto_mysql\u001b[0m\u001b[0;34m(\u001b[0m\u001b[0mi\u001b[0m\u001b[0;34m)\u001b[0m \u001b[0;32mfor\u001b[0m \u001b[0mi\u001b[0m \u001b[0;32min\u001b[0m \u001b[0mres\u001b[0m\u001b[0;34m]\u001b[0m\u001b[0;34m\u001b[0m\u001b[0m\n\u001b[0m\u001b[1;32m    418\u001b[0m             \u001b[0mres\u001b[0m \u001b[0;34m=\u001b[0m \u001b[0;34m[\u001b[0m\u001b[0mescape\u001b[0m\u001b[0;34m(\u001b[0m\u001b[0mi\u001b[0m\u001b[0;34m)\u001b[0m \u001b[0;32mfor\u001b[0m \u001b[0mi\u001b[0m \u001b[0;32min\u001b[0m \u001b[0mres\u001b[0m\u001b[0;34m]\u001b[0m\u001b[0;34m\u001b[0m\u001b[0m\n\u001b[1;32m    419\u001b[0m             \u001b[0mres\u001b[0m \u001b[0;34m=\u001b[0m \u001b[0;34m[\u001b[0m\u001b[0mquote\u001b[0m\u001b[0;34m(\u001b[0m\u001b[0mi\u001b[0m\u001b[0;34m)\u001b[0m \u001b[0;32mfor\u001b[0m \u001b[0mi\u001b[0m \u001b[0;32min\u001b[0m \u001b[0mres\u001b[0m\u001b[0;34m]\u001b[0m\u001b[0;34m\u001b[0m\u001b[0m\n",
      "\u001b[0;32m/home/de-admin/.local/lib/python2.7/site-packages/mysql/connector/conversion.pyc\u001b[0m in \u001b[0;36mto_mysql\u001b[0;34m(self, value)\u001b[0m\n\u001b[1;32m    177\u001b[0m         \u001b[0mtype_name\u001b[0m \u001b[0;34m=\u001b[0m \u001b[0mvalue\u001b[0m\u001b[0;34m.\u001b[0m\u001b[0m__class__\u001b[0m\u001b[0;34m.\u001b[0m\u001b[0m__name__\u001b[0m\u001b[0;34m.\u001b[0m\u001b[0mlower\u001b[0m\u001b[0;34m(\u001b[0m\u001b[0;34m)\u001b[0m\u001b[0;34m\u001b[0m\u001b[0m\n\u001b[1;32m    178\u001b[0m         \u001b[0;32mtry\u001b[0m\u001b[0;34m:\u001b[0m\u001b[0;34m\u001b[0m\u001b[0m\n\u001b[0;32m--> 179\u001b[0;31m             \u001b[0;32mreturn\u001b[0m \u001b[0mgetattr\u001b[0m\u001b[0;34m(\u001b[0m\u001b[0mself\u001b[0m\u001b[0;34m,\u001b[0m \u001b[0;34m\"_{0}_to_mysql\"\u001b[0m\u001b[0;34m.\u001b[0m\u001b[0mformat\u001b[0m\u001b[0;34m(\u001b[0m\u001b[0mtype_name\u001b[0m\u001b[0;34m)\u001b[0m\u001b[0;34m)\u001b[0m\u001b[0;34m(\u001b[0m\u001b[0mvalue\u001b[0m\u001b[0;34m)\u001b[0m\u001b[0;34m\u001b[0m\u001b[0m\n\u001b[0m\u001b[1;32m    180\u001b[0m         \u001b[0;32mexcept\u001b[0m \u001b[0mAttributeError\u001b[0m\u001b[0;34m:\u001b[0m\u001b[0;34m\u001b[0m\u001b[0m\n\u001b[1;32m    181\u001b[0m             raise TypeError(\"Python '{0}' cannot be converted to a \"\n",
      "\u001b[0;31mKeyboardInterrupt\u001b[0m: "
     ]
    }
   ],
   "source": [
    "import collections\n",
    "from sklearn.cluster import KMeans\n",
    "from sklearn.feature_extraction.text import TfidfVectorizer\n",
    "import numpy as np\n",
    "import pandas as pd\n",
    "import time\n",
    "from signal import signal, SIGPIPE, SIG_DFL\n",
    "signal(SIGPIPE, SIG_DFL) \n",
    "\n",
    "ticker=1\n",
    "while 1 == 1:\n",
    "    time.sleep(60)\n",
    "    print(ticker)\n",
    "    ticker = ticker+1\n",
    "    try:\n",
    "        cnx = mysql.connector.connect(host=\"aintnodatabase.c3hfm1hvxqhx.eu-west-2.rds.amazonaws.com\",port=3306,database=\"pastebin\",user=\"root\",password=pswd)\n",
    "        cursor = cnx.cursor(buffered=True)\n",
    "        cursor.execute(\"SELECT * FROM pastebindsconlarge\")\n",
    "        result = cursor.fetchall()\n",
    "    except mysql.connector.Error as err:\n",
    "        print(str(err))\n",
    "    else:\n",
    "        cursor.close()\n",
    "        cnx.close()\n",
    "\n",
    "    pastebin = pd.DataFrame(result,columns = ['link','time','hex content raw','hex content'])\n",
    "    pastebin['ascii content'] = pastebin['hex content'].apply(lambda x: x.decode(\"hex\"))\n",
    "\n",
    "    def cluster_texts(texts, clusters=3):\n",
    "        vectorizer = TfidfVectorizer(max_df=0.5,min_df=0.1)\n",
    "\n",
    "        tfidf_model = vectorizer.fit_transform(texts)\n",
    "        km_model = KMeans(n_clusters=clusters)\n",
    "        km_model.fit(tfidf_model)\n",
    "\n",
    "        clustering = collections.defaultdict(list)\n",
    "\n",
    "        for idx, label in enumerate(km_model.labels_):\n",
    "            clustering[label].append(idx)\n",
    "\n",
    "        return clustering\n",
    "\n",
    "    articles = pastebin[['link','time','ascii content']]\n",
    "    clusters = cluster_texts(pastebin['ascii content'], clusters=5)\n",
    "    \n",
    "    for i in range(len(clusters)):\n",
    "        exec('clusters%s = []') % i\n",
    "        exec('articles%s = []') % (i+1)\n",
    "        for j in clusters[i]:\n",
    "            exec(\"articles%s.append((articles.iloc[j,:][0],articles.iloc[j,:][1],articles.iloc[j,:][2]))\") % (i+1)\n",
    "            for k in pastebin['ascii content'][j].split():\n",
    "                exec(\"clusters%s.append((k,))\") % i\n",
    "\n",
    "    for i in range(1,len(clusters)+1):\n",
    "        try:\n",
    "            cnx = mysql.connector.connect(host=\"aintnodatabase.c3hfm1hvxqhx.eu-west-2.rds.amazonaws.com\",port=3306,database=\"pastebin\",user=\"root\",password=pswd)\n",
    "            cursor = cnx.cursor(buffered=True)\n",
    "            exec('cursor.execute(\"TRUNCATE pastebindsconwords%s\")') % (i)\n",
    "            exec('stmt = \"INSERT INTO pastebindsconwords%s (WORD) VALUES (%s)\"') % (i, \"%s\")\n",
    "            exec('cursor.executemany(stmt, clusters%s)') % (i-1)\n",
    "            cnx.commit()\n",
    "        except mysql.connector.Error as err:\n",
    "            print(str(err))\n",
    "        else:\n",
    "            cursor.close()\n",
    "            cnx.close()\n",
    "            \n",
    "    for i in range(len(clusters)):\n",
    "        try:\n",
    "            cnx = mysql.connector.connect(host=\"aintnodatabase.c3hfm1hvxqhx.eu-west-2.rds.amazonaws.com\",port=3306,database=\"pastebin\",user=\"root\",password=pswd)\n",
    "            cursor = cnx.cursor(buffered=True)\n",
    "            exec('cursor.execute(\"TRUNCATE pastebindsconclusters%s\")') % (i+1)\n",
    "            exec('stmt = \"INSERT INTO pastebindsconclusters%s (LINK, TIME, TEXT) VALUES (%s)\"') % (i+1, \"%s, %s, %s\")\n",
    "            exec('cursor.executemany(stmt, articles%s)') % (i+1)\n",
    "            cnx.commit()\n",
    "        except mysql.connector.Error as err:\n",
    "            print(str(err))\n",
    "        else:\n",
    "            cursor.close()\n",
    "            cnx.close()"
   ]
  },
  {
   "cell_type": "code",
   "execution_count": null,
   "metadata": {},
   "outputs": [],
   "source": []
  }
 ],
 "metadata": {
  "anaconda-cloud": {},
  "kernelspec": {
   "display_name": "Python 2",
   "language": "python",
   "name": "python2"
  },
  "language_info": {
   "codemirror_mode": {
    "name": "ipython",
    "version": 2
   },
   "file_extension": ".py",
   "mimetype": "text/x-python",
   "name": "python",
   "nbconvert_exporter": "python",
   "pygments_lexer": "ipython2",
   "version": "2.7.15rc1"
  }
 },
 "nbformat": 4,
 "nbformat_minor": 2
}
