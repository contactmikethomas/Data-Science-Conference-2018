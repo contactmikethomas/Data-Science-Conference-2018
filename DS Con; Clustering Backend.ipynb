{
 "cells": [
  {
   "cell_type": "markdown",
   "metadata": {},
   "source": [
    "<h1>DS Con: Clustering Backend</h1>"
   ]
  },
  {
   "cell_type": "markdown",
   "metadata": {},
   "source": [
    "## Importing libraries"
   ]
  },
  {
   "cell_type": "code",
   "execution_count": 1,
   "metadata": {
    "collapsed": true
   },
   "outputs": [],
   "source": [
    "import mysql.connector\n",
    "import getpass"
   ]
  },
  {
   "cell_type": "code",
   "execution_count": 2,
   "metadata": {
    "collapsed": false
   },
   "outputs": [
    {
     "name": "stdout",
     "output_type": "stream",
     "text": [
      "Password:········\n"
     ]
    }
   ],
   "source": [
    "pswd = getpass.getpass('Password:')"
   ]
  },
  {
   "cell_type": "markdown",
   "metadata": {},
   "source": [
    "try:\n",
    "    cnx = mysql.connector.connect(host=\"aintnodatabase.c3hfm1hvxqhx.eu-west-2.rds.amazonaws.com\",port=3306,database=\"pastebin\",user=\"root\",password=pswd)\n",
    "    cursor = cnx.cursor(buffered=True)\n",
    "    cursor.execute(\"CREATE TABLE pastebindsconwords1 (WORD varchar(1000))\")\n",
    "    cursor.execute(\"CREATE TABLE pastebindsconwords2 (WORD varchar(1000))\")\n",
    "    cursor.execute(\"CREATE TABLE pastebindsconwords3 (WORD varchar(1000))\")\n",
    "    cursor.execute(\"CREATE TABLE pastebindsconwords4 (WORD varchar(1000))\")\n",
    "    cursor.execute(\"CREATE TABLE pastebindsconwords5 (WORD varchar(1000))\")\n",
    "except mysql.connector.Error as err:\n",
    "    print(str(err))\n",
    "else:\n",
    "    cursor.close()\n",
    "    cnx.close()\n",
    "    \n",
    "try:\n",
    "    cnx = mysql.connector.connect(host=\"aintnodatabase.c3hfm1hvxqhx.eu-west-2.rds.amazonaws.com\",port=3306,database=\"pastebin\",user=\"root\",password=pswd)\n",
    "    cursor = cnx.cursor(buffered=True)\n",
    "    cursor.execute(\"CREATE TABLE pastebindsconclusters1 (LINK varchar(40), TIME varchar(40), TEXT varchar(60000))\")\n",
    "    cursor.execute(\"CREATE TABLE pastebindsconclusters2 (LINK varchar(40), TIME varchar(40), TEXT varchar(60000))\")\n",
    "    cursor.execute(\"CREATE TABLE pastebindsconclusters3 (LINK varchar(40), TIME varchar(40), TEXT varchar(60000))\")\n",
    "    cursor.execute(\"CREATE TABLE pastebindsconclusters4 (LINK varchar(40), TIME varchar(40), TEXT varchar(60000))\")\n",
    "    cursor.execute(\"CREATE TABLE pastebindsconclusters5 (LINK varchar(40), TIME varchar(40), TEXT varchar(60000))\")\n",
    "except mysql.connector.Error as err:\n",
    "    print(str(err))\n",
    "else:\n",
    "    cursor.close()\n",
    "    cnx.close()"
   ]
  },
  {
   "cell_type": "markdown",
   "metadata": {},
   "source": [
    "## Clustering"
   ]
  },
  {
   "cell_type": "code",
   "execution_count": null,
   "metadata": {
    "collapsed": false
   },
   "outputs": [],
   "source": [
    "import collections\n",
    "from sklearn.cluster import KMeans\n",
    "from sklearn.feature_extraction.text import TfidfVectorizer\n",
    "import numpy as np\n",
    "import pandas as pd\n",
    "import time\n",
    "from signal import signal, SIGPIPE, SIG_DFL\n",
    "signal(SIGPIPE, SIG_DFL) \n",
    "\n",
    "ticker=1\n",
    "while 1 == 1:\n",
    "    time.sleep(60)\n",
    "    print(ticker)\n",
    "    ticker = ticker+1\n",
    "    try:\n",
    "        cnx = mysql.connector.connect(host=\"aintnodatabase.c3hfm1hvxqhx.eu-west-2.rds.amazonaws.com\",port=3306,database=\"pastebin\",user=\"root\",password=pswd)\n",
    "        cursor = cnx.cursor(buffered=True)\n",
    "        cursor.execute(\"SELECT * FROM pastebindsconlarge\")\n",
    "        result = cursor.fetchall()\n",
    "    except mysql.connector.Error as err:\n",
    "        print(str(err))\n",
    "    else:\n",
    "        cursor.close()\n",
    "        cnx.close()\n",
    "\n",
    "    pastebin = pd.DataFrame(result,columns = ['link','time','hex content raw','hex content'])\n",
    "    pastebin['ascii content'] = pastebin['hex content'].apply(lambda x: x.decode(\"hex\"))\n",
    "\n",
    "    def cluster_texts(texts, clusters=3):\n",
    "        vectorizer = TfidfVectorizer(max_df=0.5,min_df=0.1)\n",
    "\n",
    "        tfidf_model = vectorizer.fit_transform(texts)\n",
    "        km_model = KMeans(n_clusters=clusters)\n",
    "        km_model.fit(tfidf_model)\n",
    "\n",
    "        clustering = collections.defaultdict(list)\n",
    "\n",
    "        for idx, label in enumerate(km_model.labels_):\n",
    "            clustering[label].append(idx)\n",
    "\n",
    "        return clustering\n",
    "\n",
    "    articles = pastebin[['link','time','ascii content']]\n",
    "    clusters = cluster_texts(pastebin['ascii content'], clusters=5)\n",
    "    \n",
    "    for i in range(len(clusters)):\n",
    "        exec('clusters%s = []') % i\n",
    "        exec('articles%s = []') % (i+1)\n",
    "        for j in clusters[i]:\n",
    "            exec(\"articles%s.append((articles.iloc[j,:][0],articles.iloc[j,:][1],articles.iloc[j,:][2]))\") % (i+1)\n",
    "            for k in pastebin['ascii content'][j].split():\n",
    "                exec(\"clusters%s.append((k,))\") % i\n",
    "\n",
    "    for i in range(1,len(clusters)+1):\n",
    "        try:\n",
    "            cnx = mysql.connector.connect(host=\"aintnodatabase.c3hfm1hvxqhx.eu-west-2.rds.amazonaws.com\",port=3306,database=\"pastebin\",user=\"root\",password=pswd)\n",
    "            cursor = cnx.cursor(buffered=True)\n",
    "            exec('cursor.execute(\"TRUNCATE pastebindsconwords%s\")') % (i)\n",
    "            exec('stmt = \"INSERT INTO pastebindsconwords%s (WORD) VALUES (%s)\"') % (i, \"%s\")\n",
    "            exec('cursor.executemany(stmt, clusters%s)') % (i-1)\n",
    "            cnx.commit()\n",
    "        except mysql.connector.Error as err:\n",
    "            print(str(err))\n",
    "        else:\n",
    "            cursor.close()\n",
    "            cnx.close()\n",
    "            \n",
    "    for i in range(len(clusters)):\n",
    "        try:\n",
    "            cnx = mysql.connector.connect(host=\"aintnodatabase.c3hfm1hvxqhx.eu-west-2.rds.amazonaws.com\",port=3306,database=\"pastebin\",user=\"root\",password=pswd)\n",
    "            cursor = cnx.cursor(buffered=True)\n",
    "            exec('cursor.execute(\"TRUNCATE pastebindsconclusters%s\")') % (i+1)\n",
    "            exec('stmt = \"INSERT INTO pastebindsconclusters%s (LINK, TIME, TEXT) VALUES (%s)\"') % (i+1, \"%s, %s, %s\")\n",
    "            exec('cursor.executemany(stmt, articles%s)') % (i+1)\n",
    "            cnx.commit()\n",
    "        except mysql.connector.Error as err:\n",
    "            print(str(err))\n",
    "        else:\n",
    "            cursor.close()\n",
    "            cnx.close()"
   ]
  },
  {
   "cell_type": "code",
   "execution_count": null,
   "metadata": {
    "collapsed": false
   },
   "outputs": [],
   "source": []
  }
 ],
 "metadata": {
  "anaconda-cloud": {},
  "kernelspec": {
   "display_name": "Python [default]",
   "language": "python",
   "name": "python2"
  },
  "language_info": {
   "codemirror_mode": {
    "name": "ipython",
    "version": 2
   },
   "file_extension": ".py",
   "mimetype": "text/x-python",
   "name": "python",
   "nbconvert_exporter": "python",
   "pygments_lexer": "ipython2",
   "version": "2.7.12"
  }
 },
 "nbformat": 4,
 "nbformat_minor": 2
}
